{
 "cells": [
  {
   "cell_type": "markdown",
   "metadata": {
    "id": "EqmubOp2whk3"
   },
   "source": [
    "# Soal 1. Pemahaman k-means clustering\n",
    "\n",
    "Jelaskan bagaimana cara kerja k-means clustering!"
   ]
  },
  {
   "cell_type": "markdown",
   "metadata": {
    "id": "gf8y3llqw369"
   },
   "source": [
    "Jawab disini:\n",
    "\n"
   ]
  },
  {
   "cell_type": "markdown",
   "metadata": {
    "id": "oXGsjqHCk7DW"
   },
   "source": [
    "\n",
    "\n",
    "---\n",
    "\n",
    "---\n",
    "\n",
    "\n",
    "\n",
    "---\n",
    "\n",
    "\n",
    "\n",
    "\n",
    "\n",
    "\n",
    "\n",
    "\n",
    "\n",
    "\n",
    "\n",
    "\n",
    "\n",
    "---\n",
    "\n"
   ]
  },
  {
   "cell_type": "markdown",
   "metadata": {
    "id": "NoX-A3wElHoq"
   },
   "source": [
    "Download disini [pelanggan.csv](https://drive.google.com/uc?export=download&id=1jX_rLPfcCfzEEgy9xaoALmpqfU2s5TTB)"
   ]
  },
  {
   "cell_type": "code",
   "execution_count": 107,
   "metadata": {
    "colab": {
     "base_uri": "https://localhost:8080/",
     "height": 204
    },
    "executionInfo": {
     "elapsed": 776,
     "status": "ok",
     "timestamp": 1617786708008,
     "user": {
      "displayName": "Afrida hafizhatul Ulum",
      "photoUrl": "https://lh3.googleusercontent.com/a-/AOh14GhlS_9Q6i4q4ai8Ae6HYz-8Ub9PE3QIsxfVPf8tEQ=s64",
      "userId": "06287560445691811212"
     },
     "user_tz": -420
    },
    "id": "rqRBoUBsw7S0",
    "outputId": "4795491d-6d80-4b6d-dbc1-f6afb60bd02d"
   },
   "outputs": [
    {
     "data": {
      "text/html": [
       "<div>\n",
       "<style scoped>\n",
       "    .dataframe tbody tr th:only-of-type {\n",
       "        vertical-align: middle;\n",
       "    }\n",
       "\n",
       "    .dataframe tbody tr th {\n",
       "        vertical-align: top;\n",
       "    }\n",
       "\n",
       "    .dataframe thead th {\n",
       "        text-align: right;\n",
       "    }\n",
       "</style>\n",
       "<table border=\"1\" class=\"dataframe\">\n",
       "  <thead>\n",
       "    <tr style=\"text-align: right;\">\n",
       "      <th></th>\n",
       "      <th>ID_pelanggan</th>\n",
       "      <th>Jenis Kelamin</th>\n",
       "      <th>Umur</th>\n",
       "      <th>Pendapatan pertahun (juta)</th>\n",
       "      <th>Skor Belanja (1-100)</th>\n",
       "    </tr>\n",
       "  </thead>\n",
       "  <tbody>\n",
       "    <tr>\n",
       "      <th>0</th>\n",
       "      <td>1</td>\n",
       "      <td>Laki-laki</td>\n",
       "      <td>19.0</td>\n",
       "      <td>15</td>\n",
       "      <td>39.0</td>\n",
       "    </tr>\n",
       "    <tr>\n",
       "      <th>1</th>\n",
       "      <td>2</td>\n",
       "      <td>Laki-laki</td>\n",
       "      <td>21.0</td>\n",
       "      <td>15</td>\n",
       "      <td>81.0</td>\n",
       "    </tr>\n",
       "    <tr>\n",
       "      <th>2</th>\n",
       "      <td>3</td>\n",
       "      <td>Perempuan</td>\n",
       "      <td>20.0</td>\n",
       "      <td>16</td>\n",
       "      <td>6.0</td>\n",
       "    </tr>\n",
       "    <tr>\n",
       "      <th>3</th>\n",
       "      <td>4</td>\n",
       "      <td>Perempuan</td>\n",
       "      <td>23.0</td>\n",
       "      <td>16</td>\n",
       "      <td>77.0</td>\n",
       "    </tr>\n",
       "    <tr>\n",
       "      <th>4</th>\n",
       "      <td>5</td>\n",
       "      <td>Perempuan</td>\n",
       "      <td>31.0</td>\n",
       "      <td>17</td>\n",
       "      <td>40.0</td>\n",
       "    </tr>\n",
       "  </tbody>\n",
       "</table>\n",
       "</div>"
      ],
      "text/plain": [
       "   ID_pelanggan Jenis Kelamin  Umur  Pendapatan pertahun (juta)  \\\n",
       "0             1     Laki-laki  19.0                          15   \n",
       "1             2     Laki-laki  21.0                          15   \n",
       "2             3     Perempuan  20.0                          16   \n",
       "3             4     Perempuan  23.0                          16   \n",
       "4             5     Perempuan  31.0                          17   \n",
       "\n",
       "   Skor Belanja (1-100)  \n",
       "0                  39.0  \n",
       "1                  81.0  \n",
       "2                   6.0  \n",
       "3                  77.0  \n",
       "4                  40.0  "
      ]
     },
     "execution_count": 107,
     "metadata": {},
     "output_type": "execute_result"
    }
   ],
   "source": [
    "import pandas as pd\n",
    "df = pd.read_csv('pelanggan_supermarket.csv')\n",
    "df.head()"
   ]
  },
  {
   "cell_type": "markdown",
   "metadata": {
    "id": "AByM6XoYMkTy"
   },
   "source": [
    "# Soal 2. Clustering data menggunakan k-means clustering\n",
    "\n",
    "Dalam soal ini, kalian diminta untuk melakukan clustering antara data Umur dan Skor Belanja(1-100). Namun, clustering tidak bisa dilakukan karena data memiliki outlier dan missing value. Maka, lakukanlah tahapan-tahapan berikut:\n",
    "\n",
    "*   Handling missing value dengan menggunakan method ='ffill'\n",
    "*   Handling outlier menggunakan metode Interquartile range\n",
    "*   Lakukan rescaling data menggunakan StandardScaler\n",
    "*   Lakukan clustering menggunakan kmeans clustering dengan k =2, dan visualisasikan.. \n",
    "*   Gunakan Elbow method untuk menemukan jumlah k kluster yang tepat\n",
    "*   Gunakan k=3 (rekomendasi methode Elbow) lalu visualisasikan\n",
    "*   Hitung silhoutte Coefficient dari ke dua hasil prediksi klustering tersebut\n",
    "\n",
    "\n",
    "\n",
    "\n",
    "\n",
    "\n",
    "\n",
    "\n"
   ]
  },
  {
   "cell_type": "code",
   "execution_count": 108,
   "metadata": {},
   "outputs": [
    {
     "name": "stdout",
     "output_type": "stream",
     "text": [
      "<class 'pandas.core.frame.DataFrame'>\n",
      "RangeIndex: 250 entries, 0 to 249\n",
      "Data columns (total 5 columns):\n",
      " #   Column                      Non-Null Count  Dtype  \n",
      "---  ------                      --------------  -----  \n",
      " 0   ID_pelanggan                250 non-null    int64  \n",
      " 1   Jenis Kelamin               250 non-null    object \n",
      " 2   Umur                        245 non-null    float64\n",
      " 3   Pendapatan pertahun (juta)  250 non-null    int64  \n",
      " 4   Skor Belanja (1-100)        246 non-null    float64\n",
      "dtypes: float64(2), int64(2), object(1)\n",
      "memory usage: 9.9+ KB\n"
     ]
    }
   ],
   "source": [
    "df.info()"
   ]
  },
  {
   "cell_type": "code",
   "execution_count": 115,
   "metadata": {},
   "outputs": [],
   "source": [
    "def find_outliers(df):\n",
    "    Q1=df.quantile(0.25)\n",
    "    Q3=df.quantile(0.75)\n",
    "    IQR=Q3-Q1\n",
    "    Lb=Q1-IQR*1.5\n",
    "    Ub=Q3+IQR*1.5\n",
    "    df_result=df[(df<Lb)|(df>Ub)]\n",
    "    return df_result"
   ]
  },
  {
   "cell_type": "code",
   "execution_count": 114,
   "metadata": {},
   "outputs": [
    {
     "data": {
      "text/plain": [
       "Series([], Name: Umur, dtype: float64)"
      ]
     },
     "execution_count": 114,
     "metadata": {},
     "output_type": "execute_result"
    }
   ],
   "source": [
    "find_outliers(df['Umur'])"
   ]
  },
  {
   "cell_type": "code",
   "execution_count": 113,
   "metadata": {
    "id": "l2u2IRm4Ou_9"
   },
   "outputs": [],
   "source": [
    "#code here\n",
    "df.fillna(method='ffill', inplace=True)"
   ]
  },
  {
   "cell_type": "code",
   "execution_count": 92,
   "metadata": {},
   "outputs": [],
   "source": [
    "df['Pendapatan pertahun (juta)']=df['Pendapatan pertahun (juta)'].astype(float)"
   ]
  },
  {
   "cell_type": "code",
   "execution_count": 93,
   "metadata": {},
   "outputs": [
    {
     "data": {
      "text/plain": [
       "<Axes: >"
      ]
     },
     "execution_count": 93,
     "metadata": {},
     "output_type": "execute_result"
    },
    {
     "data": {
      "image/png": "[encoded data removed]",
      "text/plain": [
       "<Figure size 640x480 with 1 Axes>"
      ]
     },
     "metadata": {},
     "output_type": "display_data"
    }
   ],
   "source": [
    "import seaborn as sns\n",
    "sns.boxplot(df, orient='h')"
   ]
  },
  {
   "cell_type": "code",
   "execution_count": 94,
   "metadata": {},
   "outputs": [
    {
     "name": "stderr",
     "output_type": "stream",
     "text": [
      "C:\\Users\\Mohamad Alif\\AppData\\Local\\Temp\\ipykernel_25060\\2857082775.py:1: FutureWarning: The default value of numeric_only in DataFrame.quantile is deprecated. In a future version, it will default to False. Select only valid columns or specify the value of numeric_only to silence this warning.\n",
      "  Q1=df.quantile(0.25)\n",
      "C:\\Users\\Mohamad Alif\\AppData\\Local\\Temp\\ipykernel_25060\\2857082775.py:2: FutureWarning: The default value of numeric_only in DataFrame.quantile is deprecated. In a future version, it will default to False. Select only valid columns or specify the value of numeric_only to silence this warning.\n",
      "  Q3=df.quantile(0.75)\n",
      "C:\\Users\\Mohamad Alif\\AppData\\Local\\Temp\\ipykernel_25060\\2857082775.py:6: FutureWarning: Automatic reindexing on DataFrame vs Series comparisons is deprecated and will raise ValueError in a future version. Do `left, right = left.align(right, axis=1, copy=False)` before e.g. `left == right`\n",
      "  df2=df[(df>Lb)&(df<Ub)]\n"
     ]
    },
    {
     "data": {
      "text/plain": [
       "<Axes: >"
      ]
     },
     "execution_count": 94,
     "metadata": {},
     "output_type": "execute_result"
    },
    {
     "data": {
      "image/png": "[encoded data removed]",
      "text/plain": [
       "<Figure size 640x480 with 1 Axes>"
      ]
     },
     "metadata": {},
     "output_type": "display_data"
    }
   ],
   "source": [
    "Q1=df.quantile(0.25)\n",
    "Q3=df.quantile(0.75)\n",
    "IQR=Q3-Q1\n",
    "Lb=Q1-IQR*1.5\n",
    "Ub=Q3+IQR*1.5\n",
    "df2=df[(df>Lb)&(df<Ub)]\n",
    "sns.boxplot(df2, orient='h')"
   ]
  },
  {
   "cell_type": "code",
   "execution_count": 97,
   "metadata": {},
   "outputs": [
    {
     "data": {
      "text/plain": [
       "<Axes: >"
      ]
     },
     "execution_count": 97,
     "metadata": {},
     "output_type": "execute_result"
    },
    {
     "data": {
      "image/png": "[encoded data removed]",
      "text/plain": [
       "<Figure size 640x480 with 1 Axes>"
      ]
     },
     "metadata": {},
     "output_type": "display_data"
    }
   ],
   "source": [
    "Q1_=df2['Pendapatan pertahun (juta)'].quantile(0.25)\n",
    "Q3_=df2['Pendapatan pertahun (juta)'].quantile(0.75)\n",
    "IQR_=Q3_-Q1_\n",
    "Lb_=Q1_-IQR_*1.5\n",
    "Ub_=Q3_+IQR_*1.5\n",
    "df3=df2[(df2['Pendapatan pertahun (juta)']>Lb_)&(df2['Pendapatan pertahun (juta)']<Ub_)]\n",
    "sns.boxplot(df3['Pendapatan pertahun (juta)'], orient='h')"
   ]
  },
  {
   "cell_type": "code",
   "execution_count": 102,
   "metadata": {},
   "outputs": [
    {
     "data": {
      "text/plain": [
       "<Axes: >"
      ]
     },
     "execution_count": 102,
     "metadata": {},
     "output_type": "execute_result"
    },
    {
     "data": {
      "image/png": "[encoded data removed]",
      "text/plain": [
       "<Figure size 640x480 with 1 Axes>"
      ]
     },
     "metadata": {},
     "output_type": "display_data"
    }
   ],
   "source": [
    "sns.boxplot(df3, orient='h')"
   ]
  },
  {
   "cell_type": "code",
   "execution_count": 104,
   "metadata": {},
   "outputs": [],
   "source": [
    "from sklearn.preprocessing import StandardScaler"
   ]
  },
  {
   "cell_type": "markdown",
   "metadata": {
    "id": "Fo1GIiVdFP4j"
   },
   "source": [
    "Expected output:\n",
    "\n",
    "n_cluster =2\n",
    "\n",
    "![](https://drive.google.com/uc?id=1RHedPeGR48w-cWl7WWkIsHTSB2DRgynO)\n",
    "\n",
    "\n",
    "Elbow graph\n",
    "\n",
    "![](https://drive.google.com/uc?id=1S3_uvQWzJCi8YwSBbpu2imKbUBZ3JdmV)\n",
    "\n",
    "n_cluster =3\n",
    "\n",
    "![](https://drive.google.com/uc?id=1EVMDQgPpC8vYpfxilyiJMRDNIr-JXULd)"
   ]
  },
  {
   "cell_type": "markdown",
   "metadata": {
    "id": "5xpMIoEcm8MM"
   },
   "source": [
    "\n",
    "\n",
    "---\n",
    "\n",
    "\n",
    "\n",
    "---\n",
    "\n",
    "\n",
    "\n",
    "---\n",
    "\n"
   ]
  },
  {
   "cell_type": "markdown",
   "metadata": {
    "id": "pt-NFlqTm-Og"
   },
   "source": [
    "# Soal 3. Analisa Data Hasil Clustering\n",
    "\n",
    "Dari hasil klustering diatas, buatlah sebuah analisa segmentasi pelanggan untuk kemajuan supermarket. "
   ]
  },
  {
   "cell_type": "markdown",
   "metadata": {
    "id": "zNPDstJynpva"
   },
   "source": [
    "Jawab disini:"
   ]
  }
 ],
 "metadata": {
  "colab": {
   "collapsed_sections": [],
   "provenance": [],
   "toc_visible": true
  },
  "kernelspec": {
   "display_name": "Python 3 (ipykernel)",
   "language": "python",
   "name": "python3"
  },
  "language_info": {
   "codemirror_mode": {
    "name": "ipython",
    "version": 3
   },
   "file_extension": ".py",
   "mimetype": "text/x-python",
   "name": "python",
   "nbconvert_exporter": "python",
   "pygments_lexer": "ipython3",
   "version": "3.10.9"
  }
 },
 "nbformat": 4,
 "nbformat_minor": 1
}
